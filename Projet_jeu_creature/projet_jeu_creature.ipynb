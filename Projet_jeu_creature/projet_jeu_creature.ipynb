{
 "cells": [
  {
   "cell_type": "code",
   "execution_count": 8,
   "metadata": {},
   "outputs": [],
   "source": [
    "# • Case, qui possède un attribut x et un attribut y.\n",
    "# • Créature, qui possède un attribut nom, position.\n",
    "# • Jeu, qui possède quatre attributs listesDesCases, listeDesCreatures, tour, et actif.\n",
    "\n",
    "\n",
    "\n",
    "class Case():\n",
    "    def __init__(self, x, y):\n",
    "        self.x = x\n",
    "        self.y = y\n",
    "    \n",
    "class Creature():\n",
    "    def __init__(self, nom, position):\n",
    "        self.nom = nom\n",
    "        self.position = position \n",
    "    \n",
    "class Jeu():\n",
    "    def __init__(self, listesDesCases, listeDesCreatures, tour, actif):\n",
    "        self.listeDesCases = listeDesCases\n",
    "        self.listeDesCreatures = listeDesCreatures\n",
    "        self.tour = tour \n",
    "        self.actif = actif"
   ]
  },
  {
   "cell_type": "code",
   "execution_count": 5,
   "metadata": {},
   "outputs": [],
   "source": [
    "# Etapes :\n",
    "# 1. Rédiger ces classe avec leurs constructeurs. Modifier leur méthode __str__ de façon à rendre leur affichage utile."
   ]
  },
  {
   "cell_type": "code",
   "execution_count": 16,
   "metadata": {},
   "outputs": [],
   "source": [
    "# 2. Rédiger une methode estOccupee(case) dans la classe Jeu qui vérifie si la Case case est occupée."
   ]
  },
  {
   "cell_type": "code",
   "execution_count": 15,
   "metadata": {},
   "outputs": [],
   "source": [
    "class Case:\n",
    "    def __init__(self, x, y):\n",
    "        self.x = x\n",
    "        self.y = y\n",
    "    def __str__(self):\n",
    "        z = self.x + self.y\n",
    "        return z\n",
    "    #def adjacentes(jeu):\n",
    "        \n",
    "        \n",
    "class Creature:\n",
    "    def __init__(self, nom, position):\n",
    "        self.nom = nom\n",
    "        self.position = position\n",
    "    def __str__(self):\n",
    "        deplacer = self.nom + self.prenom\n",
    "        return deplacer \n",
    "    #def choisirCible(jeu):\n",
    "        \n",
    "class Jeu:\n",
    "    def __init__(self, listesDesCases, listeDesCreatures, tour, actif):\n",
    "        self.listeDesCases = listeDesCases\n",
    "        self.listeDesCreatures = listeDesCreatures\n",
    "        self.tour = tour \n",
    "        self.actif = actif\n",
    "    def __str__(self):\n",
    "        a = self.listeDesCases + self.listeDesCreatures + self.tour + self.actif\n",
    "        return a\n",
    "    def estOccupee(case):\n",
    "        if case == true:\n",
    "            self.case == self.position\n",
    "        else:\n",
    "            case = false"
   ]
  },
  {
   "cell_type": "code",
   "execution_count": 17,
   "metadata": {},
   "outputs": [],
   "source": [
    "# 3. Rédiger une méthode adjacentes(jeu) dans la classe Case, qui renvoie la liste des Case du jeu adjacentes à la case courante."
   ]
  },
  {
   "cell_type": "code",
   "execution_count": 2,
   "metadata": {},
   "outputs": [
    {
     "ename": "IndentationError",
     "evalue": "expected an indented block (<ipython-input-2-b6363cc41f1f>, line 36)",
     "output_type": "error",
     "traceback": [
      "\u001b[0;36m  File \u001b[0;32m\"<ipython-input-2-b6363cc41f1f>\"\u001b[0;36m, line \u001b[0;32m36\u001b[0m\n\u001b[0;31m    return\u001b[0m\n\u001b[0m         ^\u001b[0m\n\u001b[0;31mIndentationError\u001b[0m\u001b[0;31m:\u001b[0m expected an indented block\n"
     ]
    }
   ],
   "source": [
    "from random import randrange \n",
    "\n",
    "class Case:\n",
    "    def __init__(self, x, y):\n",
    "        self.x = x\n",
    "        self.y = y\n",
    "    def adjacentes(jeu):\n",
    "        if jeu [self.x][self.y] == \" \":\n",
    "            adjacentes(self.x-1,self.y+1)\n",
    "            adjacentes(self.x-1,self.y-1)\n",
    "            adjacentes(self.x+1,self.y-1)\n",
    "            adjacentes(self.x+1,self.y+1)\n",
    "    def __str__(self):\n",
    "        z = self.x + self.y\n",
    "        return z       \n",
    "class Creature:\n",
    "    def __init__(self, nom, position):\n",
    "        self.nom = nom\n",
    "        self.position = position\n",
    "    def __str__(self):\n",
    "        \n",
    "    def choisirCible(jeu):\n",
    "        while True:\n",
    "            if jeu == case + i.position:\n",
    "                case(self.x,self.y+1)\n",
    "                case(self.x,self.y-1)\n",
    "                case(self.x+1,self.y)\n",
    "                case(self.x-1,self.y)\n",
    "            else:\n",
    "                self.x, self.y = case[randrange(len(case))]\n",
    "            return \n",
    "    def __str__(self):\n",
    "        deplacer = self.nom + self.prenom\n",
    "    return deplacer \n",
    "class Jeu:\n",
    "    def __init__(self, listesDesCases, listeDesCreatures, tour, actif):\n",
    "        self.listeDesCases = listeDesCases\n",
    "        self.listeDesCreatures = listeDesCreatures\n",
    "        self.tour = tour \n",
    "        self.actif = actif\n",
    "    def __str__(self):\n",
    "        a = self.listeDesCases + self.listeDesCreatures + self.tour + self.actif\n",
    "        return a\n",
    "    def estOccupee(case):\n",
    "        return any(case == i.position for i in self.listeDesCreatures)\n",
    "    def deplaçer(creature, case):\n",
    "        "
   ]
  },
  {
   "cell_type": "code",
   "execution_count": null,
   "metadata": {},
   "outputs": [],
   "source": []
  }
 ],
 "metadata": {
  "kernelspec": {
   "display_name": "Python 3",
   "language": "python",
   "name": "python3"
  },
  "language_info": {
   "codemirror_mode": {
    "name": "ipython",
    "version": 3
   },
   "file_extension": ".py",
   "mimetype": "text/x-python",
   "name": "python",
   "nbconvert_exporter": "python",
   "pygments_lexer": "ipython3",
   "version": "3.7.4"
  }
 },
 "nbformat": 4,
 "nbformat_minor": 2
}
